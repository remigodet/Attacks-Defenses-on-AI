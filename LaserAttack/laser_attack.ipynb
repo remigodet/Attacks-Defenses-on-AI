{
 "cells": [
  {
   "cell_type": "code",
   "execution_count": 1,
   "metadata": {},
   "outputs": [
    {
     "name": "stderr",
     "output_type": "stream",
     "text": [
      "c:\\Users\\camil\\AppData\\Local\\Programs\\Python\\Python310\\lib\\site-packages\\tqdm\\auto.py:22: TqdmWarning: IProgress not found. Please update jupyter and ipywidgets. See https://ipywidgets.readthedocs.io/en/stable/user_install.html\n",
      "  from .autonotebook import tqdm as notebook_tqdm\n"
     ]
    }
   ],
   "source": [
    "import os \n",
    "import numpy as np\n",
    "import matplotlib.pyplot as plt\n",
    "from PIL import Image\n",
    "import cv2\n",
    "from art_laser_attack import LaserBeamAttack, LaserBeam, LaserBeamGenerator, ImageGenerator\n",
    "from art.attacks.evasion.laser_attack.utils import add_images\n",
    "import tensorflow as tf\n",
    "from tensorflow import keras\n",
    "from PIL import Image\n",
    "from sklearn.model_selection import train_test_split\n",
    "from tensorflow.keras.preprocessing.image import ImageDataGenerator\n",
    "from tensorflow.keras.optimizers import Adam\n",
    "from art.attacks.evasion.laser_attack.utils import wavelength_to_rgb\n",
    "from sklearn.model_selection import train_test_split\n",
    "import keras\n",
    "from keras.models import load_model"
   ]
  },
  {
   "cell_type": "code",
   "execution_count": 2,
   "metadata": {},
   "outputs": [],
   "source": [
    "#GHTSRB dataset\n",
    "\n",
    "# Resizing the images to 30x30x3\n",
    "IMG_HEIGHT = 30\n",
    "IMG_WIDTH = 30\n",
    "channels = 3\n",
    "\n",
    "#finding total classes\n",
    "NUM_CATEGORIES = 43\n",
    "\n",
    "\n",
    "classes={0:'Speed limit(20km/hr)',\n",
    "         1:'Speed limit(30km/hr)',\n",
    "         2:'Speed limit(50km/hr)',\n",
    "         3:'Speed limit(60km/hr)',\n",
    "         4:'Speed limit(70km/hr)',\n",
    "         5:'Speed limit(80km/hr)',\n",
    "         6:'End of speed limt(80km/hr)',\n",
    "         7:'Speed limit(100km/hr)',\n",
    "         8:'Speed limit(120km/hr)',\n",
    "         9:'No passing',\n",
    "         10:'No passing vehicles over 3.5 tons',\n",
    "         11:'Right- of- way at inetersection',\n",
    "         12:'Priority road',\n",
    "         13:'Yield',\n",
    "         14:'Stop',\n",
    "         15:'No vehicles',\n",
    "         16:'Vehicles greater than 3.5 tons prohibited',\n",
    "         17:'No entry',\n",
    "         18:'General Caution',\n",
    "         19:'Dangers curve left',\n",
    "         20:'Dangers curve Right',\n",
    "         21:'Double curve',\n",
    "         22:'Bumpy road',\n",
    "         23:'Slippery road',\n",
    "         24:'Road narrows on the right',\n",
    "         25:'Road work',\n",
    "         26:'Traffic signals',\n",
    "         27:'Pedestrians',\n",
    "         28:'Children crossing ',\n",
    "         29:'Bicycle crossing',\n",
    "         30:'Beware of ice/snow',\n",
    "         31:'Wild animal crossing',\n",
    "         32:'End speed + passing limits',\n",
    "         33:'Turn right ahead',\n",
    "         34:' Turn left ahead',\n",
    "         35:'Ahead only',\n",
    "         36:'Go straight or right',\n",
    "         37:'Go straight or left',\n",
    "         38:'Keep right',\n",
    "         39:'Kepp left',\n",
    "         40:'Rounabout mandatory',\n",
    "         41:'End of no passing',\n",
    "         42:'End of no passingVehicle greater than 3.5tons'\n",
    "        }\n",
    "\n"
   ]
  },
  {
   "cell_type": "code",
   "execution_count": 4,
   "metadata": {},
   "outputs": [],
   "source": [
    "#Making model\n",
    "model = keras.models.Sequential([    \n",
    "    keras.layers.Conv2D(filters=16, kernel_size=(3,3), activation='relu', input_shape=(IMG_HEIGHT,IMG_WIDTH,channels)),\n",
    "    keras.layers.Conv2D(filters=32, kernel_size=(3,3), activation='relu'),\n",
    "    keras.layers.MaxPool2D(pool_size=(2, 2)),\n",
    "    keras.layers.BatchNormalization(axis=-1),\n",
    "    \n",
    "    keras.layers.Conv2D(filters=64, kernel_size=(3,3), activation='relu'),\n",
    "    keras.layers.Conv2D(filters=128, kernel_size=(3,3), activation='relu'),\n",
    "    keras.layers.MaxPool2D(pool_size=(2, 2)),\n",
    "    keras.layers.BatchNormalization(axis=-1),\n",
    "    \n",
    "    keras.layers.Flatten(),\n",
    "    keras.layers.Dense(512, activation='relu'),\n",
    "    keras.layers.BatchNormalization(),\n",
    "    keras.layers.Dropout(rate=0.5),\n",
    "    \n",
    "    keras.layers.Dense(43, activation='softmax')\n",
    "])"
   ]
  },
  {
   "cell_type": "code",
   "execution_count": 3,
   "metadata": {},
   "outputs": [],
   "source": [
    "# Load model\n",
    "model = load_model('model.h5')"
   ]
  },
  {
   "cell_type": "code",
   "execution_count": 4,
   "metadata": {},
   "outputs": [],
   "source": [
    "# Target image\n",
    "\n",
    "path =\"./stop.png\"\n",
    "\n",
    "image = cv2.imread(path)\n",
    "image_fromarray = Image.fromarray(image)\n",
    "resize_image = image_fromarray.resize((IMG_HEIGHT, IMG_WIDTH))\n",
    "img= np.array(resize_image)/255\n",
    "\n",
    "img_label = np.zeros((43,1))\n",
    "img_label[14]=1\n",
    "\n",
    "REAL_CLASS = np.argmax(img_label)\n",
    "\n",
    "input_shape = img.shape\n",
    "img=np.array(img,dtype=np.float32)"
   ]
  },
  {
   "cell_type": "code",
   "execution_count": 5,
   "metadata": {},
   "outputs": [
    {
     "data": {
      "image/png": "[encoded data removed]",
      "text/plain": [
       "<Figure size 640x480 with 2 Axes>"
      ]
     },
     "metadata": {},
     "output_type": "display_data"
    },
    {
     "name": "stdout",
     "output_type": "stream",
     "text": [
      "good prediction initially: tf.Tensor(True, shape=(), dtype=bool)\n",
      "real class : Stop\n",
      "initial class predicted: Stop\n"
     ]
    }
   ],
   "source": [
    "# Display the initial image\n",
    "c=plt.imshow(cv2.cvtColor(img, cv2.COLOR_BGR2RGB))\n",
    "plt.colorbar(c)\n",
    "plt.show()\n",
    "\n",
    "# Save the initial image\n",
    "cv2.imwrite('./Results/initial_image.png', img*255)\n",
    "\n",
    "# Predictions for the initial image\n",
    "def predict_image_class(image, model):\n",
    "    image_expanded = tf.expand_dims(image, 0)\n",
    "    predicted = tf.argmax(model(image_expanded), 1)\n",
    "    return predicted\n",
    "\n",
    "prediction = predict_image_class(img, model)[0]\n",
    "print(\"good prediction initially:\",(prediction == REAL_CLASS))\n",
    "print(\"real class :\",classes[REAL_CLASS])\n",
    "print(\"initial class predicted:\",classes[int(prediction)])\n"
   ]
  },
  {
   "cell_type": "code",
   "execution_count": 10,
   "metadata": {},
   "outputs": [],
   "source": [
    "tf.keras.backend.set_image_data_format('channels_last')\n",
    "channels_first=False\n",
    "\n",
    "# Attack\n",
    "max_width = 30\n",
    "min_width = 0\n",
    "max_wavelength = 380\n",
    "min_wavelength = 780\n",
    "\n",
    "attack = LaserBeamAttack(\n",
    "    estimator=model,\n",
    "    channels_first=channels_first, \n",
    "    iterations=500,\n",
    "    min_laser_beam=(min_wavelength, 0.0, 0, min_width),    # parameters : (wavelength, angle (radians), bias, width)\n",
    "    max_laser_beam=(max_wavelength, 3.14, 30, max_width))"
   ]
  },
  {
   "cell_type": "code",
   "execution_count": 11,
   "metadata": {},
   "outputs": [
    {
     "name": "stdout",
     "output_type": "stream",
     "text": [
      "1/1 [==============================] - 0s 33ms/step\n",
      "1/1 [==============================] - 0s 33ms/step\n",
      "1/1 [==============================] - 0s 36ms/step\n",
      "1/1 [==============================] - 0s 34ms/step\n",
      "1/1 [==============================] - 0s 55ms/step\n",
      "1/1 [==============================] - 0s 46ms/step\n",
      "1/1 [==============================] - 0s 34ms/step\n",
      "1/1 [==============================] - 0s 41ms/step\n",
      "1/1 [==============================] - 0s 36ms/step\n",
      "1/1 [==============================] - 0s 40ms/step\n",
      "1/1 [==============================] - 0s 35ms/step\n",
      "1/1 [==============================] - 0s 35ms/step\n",
      "1/1 [==============================] - 0s 30ms/step\n",
      "1/1 [==============================] - 0s 32ms/step\n",
      "1/1 [==============================] - 0s 30ms/step\n",
      "1/1 [==============================] - 0s 38ms/step\n",
      "1/1 [==============================] - 0s 34ms/step\n",
      "1/1 [==============================] - 0s 35ms/step\n",
      "1/1 [==============================] - 0s 42ms/step\n",
      "1/1 [==============================] - 0s 39ms/step\n",
      "1/1 [==============================] - 0s 36ms/step\n",
      "1/1 [==============================] - 0s 36ms/step\n",
      "1/1 [==============================] - 0s 29ms/step\n",
      "1/1 [==============================] - 0s 28ms/step\n",
      "1/1 [==============================] - 0s 30ms/step\n"
     ]
    }
   ],
   "source": [
    "# Generate laser parameters instead of images\n",
    "\n",
    "adversarial_laser, adversarial_class = attack.generate_parameters(x=tf.expand_dims(img, axis=0))[0]\n",
    "\n",
    "adversarial_laser_image = ImageGenerator().generate_image(adversarial_laser, shape=input_shape)\n",
    "\n",
    "adversarial_image = add_images(img, adversarial_laser_image)"
   ]
  },
  {
   "cell_type": "code",
   "execution_count": 12,
   "metadata": {},
   "outputs": [
    {
     "data": {
      "image/png": "[encoded data removed]",
      "text/plain": [
       "<Figure size 640x480 with 2 Axes>"
      ]
     },
     "metadata": {},
     "output_type": "display_data"
    },
    {
     "data": {
      "image/png": "[encoded data removed]",
      "text/plain": [
       "<Figure size 640x480 with 2 Axes>"
      ]
     },
     "metadata": {},
     "output_type": "display_data"
    }
   ],
   "source": [
    "# Display the adversarial image\n",
    "adversarial_image = np.array(adversarial_image,dtype=np.float32)\n",
    "c = plt.imshow(cv2.cvtColor(adversarial_image, cv2.COLOR_BGR2RGB))\n",
    "plt.colorbar(c)\n",
    "plt.show()\n",
    "\n",
    "\n",
    "# Display the laser beam\n",
    "adversarial_laser_image = np.array(adversarial_laser_image,dtype=np.float32)\n",
    "c = plt.imshow(cv2.cvtColor(adversarial_laser_image, cv2.COLOR_BGR2RGB))\n",
    "plt.colorbar(c)\n",
    "plt.show()"
   ]
  },
  {
   "cell_type": "code",
   "execution_count": 13,
   "metadata": {},
   "outputs": [
    {
     "name": "stdout",
     "output_type": "stream",
     "text": [
      "class predicted after the attack: Speed limit(30km/hr)\n",
      "Prediction value: 0.14313466846942902\n",
      "Attack sucessful\n"
     ]
    }
   ],
   "source": [
    "# Prediction\n",
    "adv_pred = predict_image_class(adversarial_image, model)\n",
    "print(\"class predicted after the attack:\",classes[int(adv_pred)])\n",
    "\n",
    "prediction_value = float(model(tf.expand_dims(adversarial_image,0))[0,int(REAL_CLASS)])\n",
    "print(\"Prediction value:\",prediction_value)\n",
    "\n",
    "if adv_pred != prediction:\n",
    "    print(\"Attack sucessful\")\n",
    "else:\n",
    "    print(\"Attack failed\")"
   ]
  },
  {
   "cell_type": "code",
   "execution_count": 14,
   "metadata": {},
   "outputs": [
    {
     "data": {
      "text/plain": [
       "True"
      ]
     },
     "execution_count": 14,
     "metadata": {},
     "output_type": "execute_result"
    }
   ],
   "source": [
    "# Save the adversarial image and the laser beam\n",
    "adv_image = np.array(adversarial_image)\n",
    "cv2.imwrite('./Results/adv_laser.png', adversarial_laser_image*255)\n",
    "cv2.imwrite('./Results/adv_image_recomposed.png', adv_image*255)"
   ]
  },
  {
   "cell_type": "code",
   "execution_count": 15,
   "metadata": {},
   "outputs": [
    {
     "name": "stdout",
     "output_type": "stream",
     "text": [
      "BGR wavelength: 380.0\n",
      "Angle of the line in radian: 2.708075294473657\n",
      "Bias of the angle: 10.409712037925786\n",
      "Width: 25.87333083892029\n",
      "RGB color: R: 255.0 G: 0.0 B: 255.0\n"
     ]
    }
   ],
   "source": [
    "# Results\n",
    "print(\"BGR wavelength:\",adversarial_laser.wavelength)\n",
    "print(\"Angle of the line in radian:\",adversarial_laser.line.angle)\n",
    "print(\"Bias of the angle:\",adversarial_laser.line.bias)\n",
    "print(\"Width:\",adversarial_laser.width)\n",
    "\n",
    "[r,g,b] = wavelength_to_rgb(adversarial_laser.wavelength)\n",
    "print(\"RGB color:\",\"R:\",b*255,\"G:\",g*255,\"B:\",r*255)"
   ]
  }
 ],
 "metadata": {
  "kernelspec": {
   "display_name": "Python 3",
   "language": "python",
   "name": "python3"
  },
  "language_info": {
   "codemirror_mode": {
    "name": "ipython",
    "version": 3
   },
   "file_extension": ".py",
   "mimetype": "text/x-python",
   "name": "python",
   "nbconvert_exporter": "python",
   "pygments_lexer": "ipython3",
   "version": "3.10.8"
  },
  "orig_nbformat": 4
 },
 "nbformat": 4,
 "nbformat_minor": 2
}
